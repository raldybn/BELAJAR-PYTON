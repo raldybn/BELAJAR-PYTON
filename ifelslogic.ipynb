{
 "cells": [
  {
   "cell_type": "markdown",
   "metadata": {},
   "source": [
    "### TUPLE\n",
    "kumpulan nilai namun tidak bisa diubah"
   ]
  },
  {
   "cell_type": "code",
   "execution_count": 19,
   "metadata": {},
   "outputs": [
    {
     "name": "stdout",
     "output_type": "stream",
     "text": [
      "hasil dari-18.x/y adalah -45.0, lalu hasil dari 1/2*x+y adalah 9.0\n"
     ]
    }
   ],
   "source": [
    "def maka(x,y):\n",
    "    return (-18*x/y,1/2*x+y)\n",
    "jika_1=10\n",
    "jika_2=4\n",
    "hasil=maka(jika_1,jika_2)\n",
    "print(f\"hasil dari-18.x/y adalah {hasil[0]}, lalu hasil dari 1/2*x+y adalah {hasil[1]}\") \n"
   ]
  },
  {
   "cell_type": "markdown",
   "metadata": {},
   "source": [
    "### LIST"
   ]
  },
  {
   "cell_type": "code",
   "execution_count": 20,
   "metadata": {},
   "outputs": [
    {
     "name": "stdout",
     "output_type": "stream",
     "text": [
      "hasil dari-18.x/y adalah -45.0, lalu hasil dari 1/2*x+y adalah 9.0\n",
      "[-45.0, 9.0, 2]\n"
     ]
    }
   ],
   "source": [
    "def maka(x,y):\n",
    "    return [-18*x/y,1/2*x+y]\n",
    "jika_1=10\n",
    "jika_2=4\n",
    "hasil=maka(jika_1,jika_2)\n",
    "hasil.append(2) #penambahan variabel\n",
    "print(f\"hasil dari-18.x/y adalah {hasil[0]}, lalu hasil dari 1/2*x+y adalah {hasil[1]}\")\n",
    "print(hasil)"
   ]
  },
  {
   "cell_type": "markdown",
   "metadata": {},
   "source": [
    "### SET"
   ]
  },
  {
   "cell_type": "code",
   "execution_count": 21,
   "metadata": {},
   "outputs": [
    {
     "name": "stdout",
     "output_type": "stream",
     "text": [
      "{'semangka', 'ucok'}\n"
     ]
    }
   ],
   "source": [
    "buah_buahan={\"semangka\",\"semangka\",\"ucok\"}\n",
    "print(buah_buahan)\n",
    "\n"
   ]
  },
  {
   "cell_type": "markdown",
   "metadata": {},
   "source": [
    "### IF & ELSE\n",
    "keterangan: kondisi "
   ]
  },
  {
   "cell_type": "code",
   "execution_count": 22,
   "metadata": {},
   "outputs": [
    {
     "name": "stdout",
     "output_type": "stream",
     "text": [
      "terpenuhi\n"
     ]
    }
   ],
   "source": [
    "a=3\n",
    "b=5\n",
    "\n",
    "if a<b:\n",
    "    print(\"terpenuhi\")"
   ]
  },
  {
   "cell_type": "code",
   "execution_count": 23,
   "metadata": {},
   "outputs": [
    {
     "name": "stdout",
     "output_type": "stream",
     "text": [
      "engga\n"
     ]
    }
   ],
   "source": [
    "if False:\n",
    "    print(\"true\")\n",
    "else:\n",
    "    print(\"engga\")"
   ]
  },
  {
   "cell_type": "code",
   "execution_count": 24,
   "metadata": {},
   "outputs": [
    {
     "name": "stdout",
     "output_type": "stream",
     "text": [
      "c adalah 1\n"
     ]
    }
   ],
   "source": [
    "a=3\n",
    "b=5\n",
    "c=0 \n",
    "\n",
    "if a<b:\n",
    "    c=1\n",
    "else:\n",
    "    c=2\n",
    "    \n",
    "print(f\"c adalah {c}\")"
   ]
  },
  {
   "cell_type": "code",
   "execution_count": 25,
   "metadata": {},
   "outputs": [
    {
     "name": "stdout",
     "output_type": "stream",
     "text": [
      "panjang nama lebih dari 4\n"
     ]
    }
   ],
   "source": [
    "nama = \"raldy\"\n",
    "\n",
    "if len(nama) > 4:\n",
    "    print(\"panjang nama lebih dari 4\")\n",
    "else:\n",
    "    print(\"nama harus lebih dari 4\")"
   ]
  },
  {
   "cell_type": "code",
   "execution_count": 26,
   "metadata": {},
   "outputs": [
    {
     "name": "stdout",
     "output_type": "stream",
     "text": [
      "benar\n"
     ]
    }
   ],
   "source": [
    "x=10\n",
    "z=-10\n",
    "if x>z:\n",
    "    print(\"benar\")\n",
    "else:\n",
    "    print(\"salah\")"
   ]
  },
  {
   "cell_type": "code",
   "execution_count": 27,
   "metadata": {},
   "outputs": [
    {
     "name": "stdout",
     "output_type": "stream",
     "text": [
      "dwi\n"
     ]
    }
   ],
   "source": [
    "x=10\n",
    "z=9\n",
    "if x<z:\n",
    "    print(\"benar\")\n",
    "elif x==z:\n",
    "    print(\"adji\")\n",
    "elif x>z:\n",
    "    print(\"dwi\")\n",
    "else:\n",
    "    print(\"salah\")"
   ]
  },
  {
   "cell_type": "markdown",
   "metadata": {},
   "source": [
    "### Match and case"
   ]
  },
  {
   "cell_type": "code",
   "execution_count": 28,
   "metadata": {},
   "outputs": [
    {
     "name": "stdout",
     "output_type": "stream",
     "text": [
      "kondisi tidak memenuhi\n"
     ]
    }
   ],
   "source": [
    "hari = \"Seni\"\n",
    "\n",
    "match hari:\n",
    "    case \"Senin\":\n",
    "        print(\"ini hari senin\")\n",
    "    case \"Selasa\":\n",
    "        print(\"ini hari selasa\")\n",
    "    case _:\n",
    "        print(\"kondisi tidak memenuhi\")"
   ]
  },
  {
   "cell_type": "code",
   "execution_count": 29,
   "metadata": {},
   "outputs": [
    {
     "name": "stdout",
     "output_type": "stream",
     "text": [
      "lainnya['kudanil', 'beruang']\n"
     ]
    }
   ],
   "source": [
    "hewan = [\"singa\", \"kudanil\", \"beruang\"]\n",
    "match hewan:\n",
    "    case [\"singa\", *akay]:\n",
    "        print(f\"lainnya{akay}\")\n",
    "    case [\"singa\", \"kudanil\", *hewsss]:\n",
    "        print(\"hallo\")\n",
    "    case _:\n",
    "        print(\"mau dong\")"
   ]
  },
  {
   "cell_type": "code",
   "execution_count": 30,
   "metadata": {},
   "outputs": [
    {
     "name": "stdout",
     "output_type": "stream",
     "text": [
      "mantep['jambu', 'pisang']\n"
     ]
    }
   ],
   "source": [
    "##latihan\n",
    "keranjang = [\"semangka\",\"jambu\",\"pisang\"]\n",
    "match keranjang:\n",
    "    case [\"semangka\",\"jambu\"]:\n",
    "        print(\"tidak lengkap\")\n",
    "    case [\"semangka\",*dll]:\n",
    "        print(f\"mantep{dll}\")\n",
    "    case _:\n",
    "        print(\"ngasal\")"
   ]
  },
  {
   "cell_type": "code",
   "execution_count": 31,
   "metadata": {},
   "outputs": [
    {
     "name": "stdout",
     "output_type": "stream",
     "text": [
      "ngasal\n"
     ]
    }
   ],
   "source": [
    "##latihan\n",
    "keranjang = [\"semangka\",\"jambu\",\"pisang\"]\n",
    "match keranjang:\n",
    "    case [\"pisang\",\"jambu\"]:\n",
    "        print(\"tidak lengkap\")\n",
    "    case [\"pisang\",*dll]:\n",
    "        print(f\"mantep{dll}\")\n",
    "    case _:\n",
    "        print(\"ngasal\")"
   ]
  },
  {
   "cell_type": "code",
   "execution_count": 32,
   "metadata": {},
   "outputs": [
    {
     "data": {
      "text/plain": [
       "(3, 4, 5, 6, 2, 4)"
      ]
     },
     "execution_count": 32,
     "metadata": {},
     "output_type": "execute_result"
    }
   ],
   "source": [
    "tuple2 = (3,4,5,6)\n",
    "tuple = (*tuple2,2,4)\n",
    "tuple"
   ]
  },
  {
   "cell_type": "code",
   "execution_count": 33,
   "metadata": {},
   "outputs": [
    {
     "name": "stdout",
     "output_type": "stream",
     "text": [
      "[6, 7, 8, 1, 3, 4, 5]\n"
     ]
    }
   ],
   "source": [
    "list2 = [6,7,8]\n",
    "list1 = [*list2, 1,3,4,5]\n",
    "print (list1)\n",
    "list3 = [3,6,2,12]"
   ]
  },
  {
   "cell_type": "markdown",
   "metadata": {},
   "source": [
    "BELAJAR CLASS"
   ]
  },
  {
   "cell_type": "code",
   "execution_count": 34,
   "metadata": {},
   "outputs": [
    {
     "name": "stdout",
     "output_type": "stream",
     "text": [
      "15\n"
     ]
    }
   ],
   "source": [
    "class jafarel:\n",
    "    x=15\n",
    "kantor=jafarel()\n",
    "print(kantor.x)"
   ]
  },
  {
   "cell_type": "code",
   "execution_count": 18,
   "metadata": {},
   "outputs": [
    {
     "name": "stdout",
     "output_type": "stream",
     "text": [
      "John\n",
      "36\n"
     ]
    }
   ],
   "source": [
    "#cara menggunakan __init__\n",
    "class Person:\n",
    "  def __init__(self, name, age):\n",
    "    self.name = name\n",
    "    self.age = age\n",
    "\n",
    "p1 = Person(\"John\", 36)\n",
    "\n",
    "print(p1.name)\n",
    "print(p1.age)"
   ]
  },
  {
   "cell_type": "code",
   "execution_count": 43,
   "metadata": {},
   "outputs": [
    {
     "name": "stdout",
     "output_type": "stream",
     "text": [
      "[nama= ucok, umur= 24, alamat= pulo, status= belum, nama= thomas, umur= 24, alamat= bango, status= belum, nama= raldy, umur= 25, alamat= pejaten, status= belum]\n"
     ]
    }
   ],
   "source": [
    "class Ktp:\n",
    "    nama:str  #propertinya\n",
    "    umur:int  #propertinya\n",
    "    alamat:str #propertinya\n",
    "    status:str #propertinya\n",
    "    def __init__(self,nama:str, umur:int, alamat:str, status:str): \n",
    "        self.nama=nama\n",
    "        self.umur=umur\n",
    "        self.alamat=alamat\n",
    "        self.status=status\n",
    "    def __repr__(self) -> str:\n",
    "        return f\"nama= {self.nama}, umur= {self.umur}, alamat= {self.alamat}, status= {self.status}\"\n",
    "    def __str__(self) -> str:\n",
    "         return f\"nama= {self.nama}, umur= {self.umur}, alamat= {self.alamat}, status= {self.status}\"\n",
    "\n",
    "\n",
    "\n",
    "def user_input():\n",
    "    nama= input(\"masukan nama\")\n",
    "    umur= input(\"masukan umur\") \n",
    "    alamat= input(\"masukan alamat\")\n",
    "    status= input(\"masukan status\")\n",
    "\n",
    "    return Ktp(nama, int(umur), alamat, status)\n",
    "    \n",
    "kumpulan_ktp=[]\n",
    "for _ in range(3):\n",
    "    ktp=user_input()\n",
    "    kumpulan_ktp.append(ktp)\n",
    "\n",
    "#ktp_1= #mewakili init\n",
    "\n",
    "print(kumpulan_ktp)\n",
    " \n"
   ]
  },
  {
   "cell_type": "markdown",
   "metadata": {},
   "source": [
    "PERULANGAN"
   ]
  },
  {
   "cell_type": "code",
   "execution_count": 36,
   "metadata": {},
   "outputs": [
    {
     "name": "stdout",
     "output_type": "stream",
     "text": [
      "[0, 1, 2, 3]\n"
     ]
    }
   ],
   "source": [
    "array=[x for x in range(4)]\n",
    "print(array)"
   ]
  },
  {
   "cell_type": "code",
   "execution_count": 5,
   "metadata": {},
   "outputs": [
    {
     "name": "stdout",
     "output_type": "stream",
     "text": [
      "0\n",
      "1\n",
      "2\n",
      "3\n",
      "4\n",
      "5\n"
     ]
    }
   ],
   "source": [
    "kumpulan_integer=[0,1,2,3,4,5]\n",
    "for x in kumpulan_integer:\n",
    "    print(x)"
   ]
  },
  {
   "cell_type": "code",
   "execution_count": 3,
   "metadata": {},
   "outputs": [
    {
     "name": "stdout",
     "output_type": "stream",
     "text": [
      "berulang\n",
      "berulang\n",
      "i genap\n"
     ]
    }
   ],
   "source": [
    "i=0\n",
    "while i<6: #true\n",
    "    print(\"berulang\")\n",
    "    i+=1\n",
    "    if i%2==0:\n",
    "        print(\"i genap\")\n",
    "        break"
   ]
  },
  {
   "cell_type": "markdown",
   "metadata": {},
   "source": [
    "logika python"
   ]
  },
  {
   "cell_type": "code",
   "execution_count": 11,
   "metadata": {},
   "outputs": [
    {
     "name": "stdout",
     "output_type": "stream",
     "text": [
      "halo nama saya raldy tinggi badan saya 183.5\n"
     ]
    }
   ],
   "source": [
    "nama = 'raldy' #string\n",
    "usia = 18 #tipe integer\n",
    "tinggi_badan = 183.5 #float\n",
    "\n",
    "print(f\"halo nama saya {nama} tinggi badan saya \" + str(tinggi_badan)) \n",
    "#jika variabel dimasukan tambahkan F \"lalu {input variabel} lalu jika tipe lain ditambahkan\" + type(variabl))\n",
    " "
   ]
  },
  {
   "cell_type": "code",
   "execution_count": 16,
   "metadata": {},
   "outputs": [
    {
     "name": "stdout",
     "output_type": "stream",
     "text": [
      "hasilnya adalah: 8\n"
     ]
    }
   ],
   "source": [
    "a = input ('masukan angka pertama') #output berupa str(string)\n",
    "b = input ('masukan angka ke dua') #output berupa str(string)\n",
    "c = int(a) * int(b)               #c akan bernilai integer\n",
    "print(\"hasilnya adalah: \" + str(c))\n"
   ]
  },
  {
   "cell_type": "code",
   "execution_count": 19,
   "metadata": {},
   "outputs": [
    {
     "name": "stdout",
     "output_type": "stream",
     "text": [
      "uang saya akan menjadi 40000\n"
     ]
    }
   ],
   "source": [
    "saldo_awal= input(\"berapa saldo awalmu\")\n",
    "deposit= input ('berapa mau deposinya')\n",
    "\n",
    "jumlah= int(saldo_awal)+int(deposit)\n",
    "\n",
    "print(\"uang saya akan menjadi \" + str(jumlah))"
   ]
  }
 ],
 "metadata": {
  "kernelspec": {
   "display_name": "belajar",
   "language": "python",
   "name": "python3"
  },
  "language_info": {
   "codemirror_mode": {
    "name": "ipython",
    "version": 3
   },
   "file_extension": ".py",
   "mimetype": "text/x-python",
   "name": "python",
   "nbconvert_exporter": "python",
   "pygments_lexer": "ipython3",
   "version": "3.12.1"
  }
 },
 "nbformat": 4,
 "nbformat_minor": 2
}
