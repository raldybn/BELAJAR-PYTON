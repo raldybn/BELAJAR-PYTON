{
 "cells": [
  {
   "cell_type": "markdown",
   "metadata": {},
   "source": [
    "### TUPLE\n",
    "kumpulan nilai namun tidak bisa diubah"
   ]
  },
  {
   "cell_type": "code",
   "execution_count": null,
   "metadata": {},
   "outputs": [],
   "source": [
    "def maka(x,y):\n",
    "    return (-18*x/y,1/2*x+y)\n",
    "jika_1=10\n",
    "jika_2=4\n",
    "hasil=maka(jika_1,jika_2)\n",
    "print(f\"hasil dari-18.x/y adalah {hasil[0]}, lalu hasil dari 1/2*x+y adalah {hasil[1]}\") \n"
   ]
  },
  {
   "cell_type": "markdown",
   "metadata": {},
   "source": [
    "### LIST"
   ]
  },
  {
   "cell_type": "code",
   "execution_count": null,
   "metadata": {},
   "outputs": [],
   "source": [
    "def maka(x,y):\n",
    "    return [-18*x/y,1/2*x+y]\n",
    "jika_1=10\n",
    "jika_2=4\n",
    "hasil=maka(jika_1,jika_2)\n",
    "hasil.append(2)\n",
    "print(f\"hasil dari-18.x/y adalah {hasil[0]}, lalu hasil dari 1/2*x+y adalah {hasil[1]}\")\n",
    "print(hasil)"
   ]
  },
  {
   "cell_type": "markdown",
   "metadata": {},
   "source": [
    "### SET"
   ]
  },
  {
   "cell_type": "code",
   "execution_count": null,
   "metadata": {},
   "outputs": [],
   "source": [
    "buah_buahan={\"semangka\",\"semangka\",\"ucok\"}\n",
    "print(buah_buahan)\n",
    "\n"
   ]
  },
  {
   "cell_type": "markdown",
   "metadata": {},
   "source": [
    "### IF & ELSE\n",
    "keterangan: kondisi "
   ]
  },
  {
   "cell_type": "code",
   "execution_count": null,
   "metadata": {},
   "outputs": [],
   "source": [
    "a=3\n",
    "b=5\n",
    "\n",
    "if a<b:\n",
    "    print(\"terpenuhi\")"
   ]
  },
  {
   "cell_type": "code",
   "execution_count": 4,
   "metadata": {},
   "outputs": [
    {
     "name": "stdout",
     "output_type": "stream",
     "text": [
      "engga\n"
     ]
    }
   ],
   "source": [
    "if False:\n",
    "    print(\"true\")\n",
    "else:\n",
    "    print(\"engga\")"
   ]
  },
  {
   "cell_type": "code",
   "execution_count": 5,
   "metadata": {},
   "outputs": [
    {
     "name": "stdout",
     "output_type": "stream",
     "text": [
      "c adalah 1\n"
     ]
    }
   ],
   "source": [
    "a=3\n",
    "b=5\n",
    "c=0 \n",
    "\n",
    "if a<b:\n",
    "    c=1\n",
    "else:\n",
    "    c=2\n",
    "    \n",
    "print(f\"c adalah {c}\")"
   ]
  },
  {
   "cell_type": "code",
   "execution_count": 10,
   "metadata": {},
   "outputs": [
    {
     "name": "stdout",
     "output_type": "stream",
     "text": [
      "panjang nama lebih dari 4\n"
     ]
    }
   ],
   "source": [
    "nama = \"raldy\"\n",
    "\n",
    "if len(nama) > 4:\n",
    "    print(\"panjang nama lebih dari 4\")\n",
    "else:\n",
    "    print(\"nama harus lebih dari 4\")"
   ]
  },
  {
   "cell_type": "code",
   "execution_count": 11,
   "metadata": {},
   "outputs": [
    {
     "name": "stdout",
     "output_type": "stream",
     "text": [
      "benar\n"
     ]
    }
   ],
   "source": [
    "x=10\n",
    "z=-10\n",
    "if x>z:\n",
    "    print(\"benar\")\n",
    "else:\n",
    "    print(\"salah\")"
   ]
  },
  {
   "cell_type": "code",
   "execution_count": 2,
   "metadata": {},
   "outputs": [
    {
     "name": "stdout",
     "output_type": "stream",
     "text": [
      "dwi\n"
     ]
    }
   ],
   "source": [
    "x=10\n",
    "z=9\n",
    "if x<z:\n",
    "    print(\"benar\")\n",
    "elif x==z:\n",
    "    print(\"adji\")\n",
    "elif x>z:\n",
    "    print(\"dwi\")\n",
    "else:\n",
    "    print(\"salah\")"
   ]
  },
  {
   "cell_type": "markdown",
   "metadata": {},
   "source": [
    "### Match and case"
   ]
  },
  {
   "cell_type": "code",
   "execution_count": 2,
   "metadata": {},
   "outputs": [
    {
     "name": "stdout",
     "output_type": "stream",
     "text": [
      "kondisi tidak memenuhi\n"
     ]
    }
   ],
   "source": [
    "hari = \"Seni\"\n",
    "\n",
    "match hari:\n",
    "    case \"Senin\":\n",
    "        print(\"ini hari senin\")\n",
    "    case \"Selasa\":\n",
    "        print(\"ini hari selasa\")\n",
    "    case _:\n",
    "        print(\"kondisi tidak memenuhi\")"
   ]
  },
  {
   "cell_type": "code",
   "execution_count": 12,
   "metadata": {},
   "outputs": [
    {
     "name": "stdout",
     "output_type": "stream",
     "text": [
      "lainnya['kudanil', 'beruang']\n"
     ]
    }
   ],
   "source": [
    "hewan = [\"singa\", \"kudanil\", \"beruang\"]\n",
    "match hewan:\n",
    "    case [\"singa\", *akay]:\n",
    "        print(f\"lainnya{akay}\")\n",
    "    case [\"singa\", \"kudanil\", *hewsss]:\n",
    "        print(\"hallo\")\n",
    "    case _:\n",
    "        print(\"mau dong\")"
   ]
  },
  {
   "cell_type": "code",
   "execution_count": 21,
   "metadata": {},
   "outputs": [
    {
     "name": "stdout",
     "output_type": "stream",
     "text": [
      "mantep['jambu', 'pisang']\n"
     ]
    }
   ],
   "source": [
    "##latihan\n",
    "keranjang = [\"semangka\",\"jambu\",\"pisang\"]\n",
    "match keranjang:\n",
    "    case [\"semangka\",\"jambu\"]:\n",
    "        print(\"tidak lengkap\")\n",
    "    case [\"semangka\",*dll]:\n",
    "        print(f\"mantep{dll}\")\n",
    "    case _:\n",
    "        print(\"ngasal\")"
   ]
  },
  {
   "cell_type": "code",
   "execution_count": 22,
   "metadata": {},
   "outputs": [
    {
     "name": "stdout",
     "output_type": "stream",
     "text": [
      "ngasal\n"
     ]
    }
   ],
   "source": [
    "##latihan\n",
    "keranjang = [\"semangka\",\"jambu\",\"pisang\"]\n",
    "match keranjang:\n",
    "    case [\"pisang\",\"jambu\"]:\n",
    "        print(\"tidak lengkap\")\n",
    "    case [\"pisang\",*dll]:\n",
    "        print(f\"mantep{dll}\")\n",
    "    case _:\n",
    "        print(\"ngasal\")"
   ]
  }
 ],
 "metadata": {
  "kernelspec": {
   "display_name": "belajar",
   "language": "python",
   "name": "python3"
  },
  "language_info": {
   "codemirror_mode": {
    "name": "ipython",
    "version": 3
   },
   "file_extension": ".py",
   "mimetype": "text/x-python",
   "name": "python",
   "nbconvert_exporter": "python",
   "pygments_lexer": "ipython3",
   "version": "3.12.1"
  }
 },
 "nbformat": 4,
 "nbformat_minor": 2
}
